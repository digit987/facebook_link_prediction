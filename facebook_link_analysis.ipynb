{
 "cells": [
  {
   "cell_type": "code",
   "execution_count": 1,
   "metadata": {
    "_cell_guid": "b1076dfc-b9ad-4769-8c92-a6c4dae69d19",
    "_uuid": "8f2839f25d086af736a60e9eeb907d3b93b6e0e5"
   },
   "outputs": [
    {
     "name": "stdout",
     "output_type": "stream",
     "text": [
      "/kaggle/input/FacebookRecruiting/train.csv\n",
      "/kaggle/input/FacebookRecruiting/train.gz\n",
      "/kaggle/input/FacebookRecruiting/bfs_benchmark.csv\n",
      "/kaggle/input/FacebookRecruiting/random_benchmark.csv\n",
      "/kaggle/input/FacebookRecruiting/train.zip\n",
      "/kaggle/input/FacebookRecruiting/test.csv\n",
      "/kaggle/input/FacebookRecruiting/train.7z\n"
     ]
    }
   ],
   "source": [
    "# This Python 3 environment comes with many helpful analytics libraries installed\n",
    "# It is defined by the kaggle/python docker image: https://github.com/kaggle/docker-python\n",
    "# For example, here's several helpful packages to load in \n",
    "\n",
    "import numpy as np # linear algebra\n",
    "import pandas as pd # data processing, CSV file I/O (e.g. pd.read_csv)\n",
    "import networkx as nx\n",
    "import matplotlib.pyplot as plt\n",
    "\n",
    "# Input data files are available in the \"../input/\" directory.\n",
    "# For example, running this (by clicking run or pressing Shift+Enter) will list all files under the input directory\n",
    "\n",
    "import os\n",
    "for dirname, _, filenames in os.walk('/kaggle/input'):\n",
    "    for filename in filenames:\n",
    "        print(os.path.join(dirname, filename))\n",
    "\n",
    "# Any results you write to the current directory are saved as output."
   ]
  },
  {
   "cell_type": "code",
   "execution_count": 2,
   "metadata": {
    "_cell_guid": "79c7e3d0-c299-4dcb-8224-4455121ee9b0",
    "_uuid": "d629ff2d2480ee46fbb7e2d37f6b5fab8052498a"
   },
   "outputs": [
    {
     "data": {
      "text/html": [
       "<div>\n",
       "<style scoped>\n",
       "    .dataframe tbody tr th:only-of-type {\n",
       "        vertical-align: middle;\n",
       "    }\n",
       "\n",
       "    .dataframe tbody tr th {\n",
       "        vertical-align: top;\n",
       "    }\n",
       "\n",
       "    .dataframe thead th {\n",
       "        text-align: right;\n",
       "    }\n",
       "</style>\n",
       "<table border=\"1\" class=\"dataframe\">\n",
       "  <thead>\n",
       "    <tr style=\"text-align: right;\">\n",
       "      <th></th>\n",
       "      <th>source_node</th>\n",
       "      <th>destination_node</th>\n",
       "    </tr>\n",
       "  </thead>\n",
       "  <tbody>\n",
       "    <tr>\n",
       "      <th>0</th>\n",
       "      <td>1</td>\n",
       "      <td>690569</td>\n",
       "    </tr>\n",
       "    <tr>\n",
       "      <th>1</th>\n",
       "      <td>1</td>\n",
       "      <td>315892</td>\n",
       "    </tr>\n",
       "    <tr>\n",
       "      <th>2</th>\n",
       "      <td>1</td>\n",
       "      <td>189226</td>\n",
       "    </tr>\n",
       "    <tr>\n",
       "      <th>3</th>\n",
       "      <td>2</td>\n",
       "      <td>834328</td>\n",
       "    </tr>\n",
       "    <tr>\n",
       "      <th>4</th>\n",
       "      <td>2</td>\n",
       "      <td>1615927</td>\n",
       "    </tr>\n",
       "    <tr>\n",
       "      <th>...</th>\n",
       "      <td>...</td>\n",
       "      <td>...</td>\n",
       "    </tr>\n",
       "    <tr>\n",
       "      <th>9437514</th>\n",
       "      <td>1862219</td>\n",
       "      <td>1187308</td>\n",
       "    </tr>\n",
       "    <tr>\n",
       "      <th>9437515</th>\n",
       "      <td>1862219</td>\n",
       "      <td>563943</td>\n",
       "    </tr>\n",
       "    <tr>\n",
       "      <th>9437516</th>\n",
       "      <td>1862219</td>\n",
       "      <td>1044046</td>\n",
       "    </tr>\n",
       "    <tr>\n",
       "      <th>9437517</th>\n",
       "      <td>1862219</td>\n",
       "      <td>1022613</td>\n",
       "    </tr>\n",
       "    <tr>\n",
       "      <th>9437518</th>\n",
       "      <td>1862220</td>\n",
       "      <td>1748794</td>\n",
       "    </tr>\n",
       "  </tbody>\n",
       "</table>\n",
       "<p>9437519 rows × 2 columns</p>\n",
       "</div>"
      ],
      "text/plain": [
       "         source_node  destination_node\n",
       "0                  1            690569\n",
       "1                  1            315892\n",
       "2                  1            189226\n",
       "3                  2            834328\n",
       "4                  2           1615927\n",
       "...              ...               ...\n",
       "9437514      1862219           1187308\n",
       "9437515      1862219            563943\n",
       "9437516      1862219           1044046\n",
       "9437517      1862219           1022613\n",
       "9437518      1862220           1748794\n",
       "\n",
       "[9437519 rows x 2 columns]"
      ]
     },
     "execution_count": 2,
     "metadata": {},
     "output_type": "execute_result"
    }
   ],
   "source": [
    "data = pd.read_csv('/kaggle/input/FacebookRecruiting/train.csv')\n",
    "data"
   ]
  },
  {
   "cell_type": "code",
   "execution_count": 3,
   "metadata": {},
   "outputs": [
    {
     "data": {
      "text/plain": [
       "source_node  source_node\n",
       "1862220      1862220           1\n",
       "563353       563353            1\n",
       "1338265      1338265           1\n",
       "1338263      1338263           1\n",
       "563357       563357            1\n",
       "                            ... \n",
       "1855498      1855498         587\n",
       "735020       735020          652\n",
       "141489       141489          759\n",
       "4850         4850            895\n",
       "1492489      1492489        1566\n",
       "Name: source_node, Length: 1587708, dtype: int64"
      ]
     },
     "execution_count": 3,
     "metadata": {},
     "output_type": "execute_result"
    }
   ],
   "source": [
    "data.groupby('source_node')['source_node'].value_counts().sort_values()"
   ]
  },
  {
   "cell_type": "code",
   "execution_count": 4,
   "metadata": {},
   "outputs": [
    {
     "data": {
      "text/plain": [
       "0"
      ]
     },
     "execution_count": 4,
     "metadata": {},
     "output_type": "execute_result"
    }
   ],
   "source": [
    "data.isna().any().sum()"
   ]
  },
  {
   "cell_type": "code",
   "execution_count": 5,
   "metadata": {},
   "outputs": [
    {
     "data": {
      "text/html": [
       "<div>\n",
       "<style scoped>\n",
       "    .dataframe tbody tr th:only-of-type {\n",
       "        vertical-align: middle;\n",
       "    }\n",
       "\n",
       "    .dataframe tbody tr th {\n",
       "        vertical-align: top;\n",
       "    }\n",
       "\n",
       "    .dataframe thead th {\n",
       "        text-align: right;\n",
       "    }\n",
       "</style>\n",
       "<table border=\"1\" class=\"dataframe\">\n",
       "  <thead>\n",
       "    <tr style=\"text-align: right;\">\n",
       "      <th></th>\n",
       "      <th>source_node</th>\n",
       "      <th>destination_node</th>\n",
       "    </tr>\n",
       "  </thead>\n",
       "  <tbody>\n",
       "    <tr>\n",
       "      <th>0</th>\n",
       "      <td>1</td>\n",
       "      <td>690569</td>\n",
       "    </tr>\n",
       "    <tr>\n",
       "      <th>1</th>\n",
       "      <td>1</td>\n",
       "      <td>315892</td>\n",
       "    </tr>\n",
       "    <tr>\n",
       "      <th>2</th>\n",
       "      <td>1</td>\n",
       "      <td>189226</td>\n",
       "    </tr>\n",
       "    <tr>\n",
       "      <th>3</th>\n",
       "      <td>2</td>\n",
       "      <td>834328</td>\n",
       "    </tr>\n",
       "    <tr>\n",
       "      <th>4</th>\n",
       "      <td>2</td>\n",
       "      <td>1615927</td>\n",
       "    </tr>\n",
       "    <tr>\n",
       "      <th>...</th>\n",
       "      <td>...</td>\n",
       "      <td>...</td>\n",
       "    </tr>\n",
       "    <tr>\n",
       "      <th>9437514</th>\n",
       "      <td>1862219</td>\n",
       "      <td>1187308</td>\n",
       "    </tr>\n",
       "    <tr>\n",
       "      <th>9437515</th>\n",
       "      <td>1862219</td>\n",
       "      <td>563943</td>\n",
       "    </tr>\n",
       "    <tr>\n",
       "      <th>9437516</th>\n",
       "      <td>1862219</td>\n",
       "      <td>1044046</td>\n",
       "    </tr>\n",
       "    <tr>\n",
       "      <th>9437517</th>\n",
       "      <td>1862219</td>\n",
       "      <td>1022613</td>\n",
       "    </tr>\n",
       "    <tr>\n",
       "      <th>9437518</th>\n",
       "      <td>1862220</td>\n",
       "      <td>1748794</td>\n",
       "    </tr>\n",
       "  </tbody>\n",
       "</table>\n",
       "<p>9437519 rows × 2 columns</p>\n",
       "</div>"
      ],
      "text/plain": [
       "         source_node  destination_node\n",
       "0                  1            690569\n",
       "1                  1            315892\n",
       "2                  1            189226\n",
       "3                  2            834328\n",
       "4                  2           1615927\n",
       "...              ...               ...\n",
       "9437514      1862219           1187308\n",
       "9437515      1862219            563943\n",
       "9437516      1862219           1044046\n",
       "9437517      1862219           1022613\n",
       "9437518      1862220           1748794\n",
       "\n",
       "[9437519 rows x 2 columns]"
      ]
     },
     "execution_count": 5,
     "metadata": {},
     "output_type": "execute_result"
    }
   ],
   "source": [
    "data[['source_node', 'destination_node']]"
   ]
  },
  {
   "cell_type": "code",
   "execution_count": 6,
   "metadata": {},
   "outputs": [],
   "source": [
    "Graphtype = nx.DiGraph()\n",
    "G = nx.from_pandas_edgelist(data.head(), source = 'source_node', target = 'destination_node', create_using=Graphtype)"
   ]
  },
  {
   "cell_type": "code",
   "execution_count": 7,
   "metadata": {},
   "outputs": [
    {
     "name": "stdout",
     "output_type": "stream",
     "text": [
      "Name: \n",
      "Type: DiGraph\n",
      "Number of nodes: 7\n",
      "Number of edges: 5\n",
      "Average in degree:   0.7143\n",
      "Average out degree:   0.7143\n"
     ]
    },
    {
     "data": {
      "image/png": "[encoded data removed]",
      "text/plain": [
       "<Figure size 432x288 with 1 Axes>"
      ]
     },
     "metadata": {},
     "output_type": "display_data"
    }
   ],
   "source": [
    "pos=nx.spring_layout(G)\n",
    "nx.draw(G,pos,node_color='#87ceeb',edge_color='#fc0362', with_labels=True)\n",
    "print(nx.info(G))"
   ]
  },
  {
   "cell_type": "code",
   "execution_count": 8,
   "metadata": {},
   "outputs": [
    {
     "data": {
      "text/plain": [
       "1587708"
      ]
     },
     "execution_count": 8,
     "metadata": {},
     "output_type": "execute_result"
    }
   ],
   "source": [
    "data['source_node'].nunique()"
   ]
  },
  {
   "cell_type": "code",
   "execution_count": 9,
   "metadata": {},
   "outputs": [
    {
     "data": {
      "text/plain": [
       "0.16823362156939764"
      ]
     },
     "execution_count": 9,
     "metadata": {},
     "output_type": "execute_result"
    }
   ],
   "source": [
    "data['source_node'].nunique() / data.shape[0]"
   ]
  },
  {
   "cell_type": "code",
   "execution_count": 10,
   "metadata": {},
   "outputs": [
    {
     "name": "stdout",
     "output_type": "stream",
     "text": [
      "<generator object _apply_prediction.<locals>.<genexpr> at 0x7f003afaae60>\n",
      "<generator object _apply_prediction.<locals>.<genexpr> at 0x7f003afaae60>\n",
      "<generator object _apply_prediction.<locals>.<genexpr> at 0x7f003afaae60>\n"
     ]
    }
   ],
   "source": [
    "H = G.to_undirected()\n",
    "for i in nx.ego_graph(H, 1, radius=2, undirected=False).edges:\n",
    "    print(nx.jaccard_coefficient(H, i))\n",
    "    #list.append(tuple(i))"
   ]
  },
  {
   "cell_type": "code",
   "execution_count": 11,
   "metadata": {},
   "outputs": [
    {
     "name": "stdout",
     "output_type": "stream",
     "text": [
      "0.0\n",
      "0.0\n",
      "0.0\n"
     ]
    }
   ],
   "source": [
    "for u, v, p in nx.jaccard_coefficient(H, nx.ego_graph(H, 1, radius=2, undirected=False).edges):\n",
    "    print(p)"
   ]
  }
 ],
 "metadata": {
  "kernelspec": {
   "display_name": "Python 3",
   "language": "python",
   "name": "python3"
  },
  "language_info": {
   "codemirror_mode": {
    "name": "ipython",
    "version": 3
   },
   "file_extension": ".py",
   "mimetype": "text/x-python",
   "name": "python",
   "nbconvert_exporter": "python",
   "pygments_lexer": "ipython3",
   "version": "3.6.6"
  }
 },
 "nbformat": 4,
 "nbformat_minor": 1
}
